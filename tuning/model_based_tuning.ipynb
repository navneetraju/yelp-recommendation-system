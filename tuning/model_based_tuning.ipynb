{
 "cells": [
  {
   "metadata": {
    "ExecuteTime": {
     "end_time": "2024-12-12T13:29:42.439801Z",
     "start_time": "2024-12-12T13:29:42.436308Z"
    }
   },
   "cell_type": "code",
   "source": [
    "from sklearn.model_selection import RandomizedSearchCV\n",
    "from xgboost import XGBRegressor\n",
    "import numpy as np\n",
    "import pandas as pd"
   ],
   "id": "98fe9420cc7f4157",
   "outputs": [],
   "execution_count": 24
  },
  {
   "metadata": {
    "ExecuteTime": {
     "end_time": "2024-12-12T08:37:44.543015Z",
     "start_time": "2024-12-12T08:37:44.518451Z"
    }
   },
   "cell_type": "code",
   "source": [
    "X_train, y_train = np.load('X_train.npy'), np.load('y_train.npy')\n",
    "print(X_train.shape, y_train.shape)"
   ],
   "id": "912f6a09939caab4",
   "outputs": [
    {
     "name": "stdout",
     "output_type": "stream",
     "text": [
      "(455855, 30) (455855,)\n"
     ]
    }
   ],
   "execution_count": 16
  },
  {
   "metadata": {
    "ExecuteTime": {
     "end_time": "2024-12-12T08:37:44.987513Z",
     "start_time": "2024-12-12T08:37:44.687995Z"
    }
   },
   "cell_type": "code",
   "source": [
    "X_test = np.load('X_test.npy')\n",
    "print(X_test.shape)"
   ],
   "id": "a5e7a021749785e",
   "outputs": [
    {
     "name": "stdout",
     "output_type": "stream",
     "text": [
      "(142044, 32)\n"
     ]
    }
   ],
   "execution_count": 17
  },
  {
   "metadata": {
    "ExecuteTime": {
     "end_time": "2024-12-12T08:37:45.132325Z",
     "start_time": "2024-12-12T08:37:45.066703Z"
    }
   },
   "cell_type": "code",
   "source": [
    "validation_df = pd.read_csv(\n",
    "    \"/Users/navneet/git/personal/DSCI-553---Foundations-and-Applications-of-Data-Mining/assignments/assignment_3/resource/asnlib/publicdata/yelp_val.csv\")\n",
    "validation_df.count()"
   ],
   "id": "1556ba373a11be64",
   "outputs": [
    {
     "data": {
      "text/plain": [
       "user_id        142044\n",
       "business_id    142044\n",
       "stars          142044\n",
       "dtype: int64"
      ]
     },
     "execution_count": 18,
     "metadata": {},
     "output_type": "execute_result"
    }
   ],
   "execution_count": 18
  },
  {
   "metadata": {
    "ExecuteTime": {
     "end_time": "2024-12-12T08:37:46.019866Z",
     "start_time": "2024-12-12T08:37:45.163397Z"
    }
   },
   "cell_type": "code",
   "source": [
    "# Join the X_test numpy array with the validation_df, the last 2 columns of the numpy array are user_id and business_id\n",
    "# Then we can use the user_id and business_id to join with the validation_df\n",
    "\n",
    "validation_df = validation_df.merge(pd.DataFrame(X_test), left_on=['user_id', 'business_id'],\n",
    "                                    right_on=[X_test.shape[1] - 2, X_test.shape[1] - 1])\n",
    "validation_data = validation_df.to_numpy()\n",
    "X_val, y_val = validation_data[:, 3:-2].astype(np.float32), validation_data[:, 2].astype(np.float32)"
   ],
   "id": "2cbc10f6c8582ab3",
   "outputs": [],
   "execution_count": 19
  },
  {
   "metadata": {
    "ExecuteTime": {
     "end_time": "2024-12-12T13:46:51.859022Z",
     "start_time": "2024-12-12T13:45:07.061067Z"
    }
   },
   "cell_type": "code",
   "source": [
    "param_grid = {\n",
    "    'n_estimators': [100, 200, 300],\n",
    "    'max_depth': [1, 3, 5, 7, 9],\n",
    "    'min_child_weight': [1, 3, 5, 7, 9],\n",
    "    'learning_rate': [0.1, 0.01, 0.001],\n",
    "    'gamma': [0, 0.1, 0.2, 0.3, 0.4],\n",
    "}\n",
    "\n",
    "search = RandomizedSearchCV(XGBRegressor(), param_grid, n_jobs=-1, cv=5, verbose=1)\n",
    "\n",
    "search.fit(X_val, y_val)\n",
    "\n",
    "print(search.best_params_)"
   ],
   "id": "897af60f64fdae5c",
   "outputs": [
    {
     "name": "stdout",
     "output_type": "stream",
     "text": [
      "Fitting 5 folds for each of 10 candidates, totalling 50 fits\n",
      "{'n_estimators': 200, 'min_child_weight': 1, 'max_depth': 1, 'learning_rate': 0.1, 'gamma': 0.4}\n"
     ]
    }
   ],
   "execution_count": 28
  }
 ],
 "metadata": {
  "kernelspec": {
   "display_name": "Python 3",
   "language": "python",
   "name": "python3"
  },
  "language_info": {
   "codemirror_mode": {
    "name": "ipython",
    "version": 2
   },
   "file_extension": ".py",
   "mimetype": "text/x-python",
   "name": "python",
   "nbconvert_exporter": "python",
   "pygments_lexer": "ipython2",
   "version": "2.7.6"
  }
 },
 "nbformat": 4,
 "nbformat_minor": 5
}
